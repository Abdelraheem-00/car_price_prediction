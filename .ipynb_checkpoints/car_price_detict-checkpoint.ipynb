{
 "cells": [
  {
   "cell_type": "code",
   "execution_count": 2,
   "id": "4735686c-e082-4cd7-af7c-62b98d550cc1",
   "metadata": {},
   "outputs": [],
   "source": [
    "import numpy as np\n",
    "import pandas as pd\n",
    "\n",
    "from sklearn.model_selection import train_test_split\n",
    "from sklearn.linear_model import LinearRegression\n"
   ]
  },
  {
   "cell_type": "code",
   "execution_count": 3,
   "id": "bca1c53d-d38b-4cc6-bf36-5fe3ae9e66b3",
   "metadata": {},
   "outputs": [],
   "source": [
    "cars_data = pd.read_csv('Cardetails.csv')"
   ]
  },
  {
   "cell_type": "code",
   "execution_count": null,
   "id": "f7abed6f-5314-4ee7-b887-e5f5e09486f4",
   "metadata": {},
   "outputs": [],
   "source": []
  }
 ],
 "metadata": {
  "kernelspec": {
   "display_name": "Python 3 (ipykernel)",
   "language": "python",
   "name": "python3"
  },
  "language_info": {
   "codemirror_mode": {
    "name": "ipython",
    "version": 3
   },
   "file_extension": ".py",
   "mimetype": "text/x-python",
   "name": "python",
   "nbconvert_exporter": "python",
   "pygments_lexer": "ipython3",
   "version": "3.11.7"
  }
 },
 "nbformat": 4,
 "nbformat_minor": 5
}
